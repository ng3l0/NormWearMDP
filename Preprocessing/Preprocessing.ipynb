{
 "cells": [
  {
   "cell_type": "markdown",
   "id": "f5d14e2e",
   "metadata": {},
   "source": []
  },
  {
   "cell_type": "markdown",
   "id": "a1576075",
   "metadata": {},
   "source": [
    "# IMPORTS"
   ]
  },
  {
   "cell_type": "code",
   "execution_count": 1,
   "id": "7bba13f5",
   "metadata": {},
   "outputs": [],
   "source": [
    "import pandas as pd \n",
    "import numpy as np\n",
    "import matplotlib.pyplot as plt"
   ]
  },
  {
   "cell_type": "markdown",
   "id": "c2dca0e3",
   "metadata": {},
   "source": [
    "Import dati.\n",
    "\n",
    "Prendo i dati dalla cartella 'Dati Garmin' locale in cui sono presenti i dati di Susanna. \n"
   ]
  },
  {
   "cell_type": "code",
   "execution_count": 5,
   "id": "3ac2ad30",
   "metadata": {},
   "outputs": [
    {
     "name": "stdout",
     "output_type": "stream",
     "text": [
      "<class 'pandas.core.frame.DataFrame'>\n",
      "RangeIndex: 56 entries, 0 to 55\n",
      "Data columns (total 7 columns):\n",
      " #   Column            Non-Null Count  Dtype         \n",
      "---  ------            --------------  -----         \n",
      " 0   email             56 non-null     object        \n",
      " 1   date              56 non-null     datetime64[ns]\n",
      " 2   heart_rate_data   56 non-null     object        \n",
      " 3   respiration_data  56 non-null     object        \n",
      " 4   stress_data       56 non-null     object        \n",
      " 5   sleep_data        56 non-null     object        \n",
      " 6   activity_data     56 non-null     object        \n",
      "dtypes: datetime64[ns](1), object(6)\n",
      "memory usage: 3.2+ KB\n"
     ]
    }
   ],
   "source": [
    "file_path='/Users/angeloguarnerio/Documents/STRESS INDEX LL2/NormWearMDP/Dati Garmin/002.json'\n",
    "data=pd.read_json(file_path)\n",
    "data.info()"
   ]
  },
  {
   "cell_type": "code",
   "execution_count": 6,
   "id": "a9f649f5",
   "metadata": {},
   "outputs": [
    {
     "data": {
      "text/html": [
       "<div>\n",
       "<style scoped>\n",
       "    .dataframe tbody tr th:only-of-type {\n",
       "        vertical-align: middle;\n",
       "    }\n",
       "\n",
       "    .dataframe tbody tr th {\n",
       "        vertical-align: top;\n",
       "    }\n",
       "\n",
       "    .dataframe thead th {\n",
       "        text-align: right;\n",
       "    }\n",
       "</style>\n",
       "<table border=\"1\" class=\"dataframe\">\n",
       "  <thead>\n",
       "    <tr style=\"text-align: right;\">\n",
       "      <th></th>\n",
       "      <th>email</th>\n",
       "      <th>date</th>\n",
       "      <th>heart_rate_data</th>\n",
       "      <th>respiration_data</th>\n",
       "      <th>stress_data</th>\n",
       "      <th>sleep_data</th>\n",
       "      <th>activity_data</th>\n",
       "    </tr>\n",
       "  </thead>\n",
       "  <tbody>\n",
       "    <tr>\n",
       "      <th>0</th>\n",
       "      <td></td>\n",
       "      <td>2025-01-13</td>\n",
       "      <td>{'summary': {'maxHeartRate': 107, 'minHeartRat...</td>\n",
       "      <td>{'summary': {'lowestRespirationValue': 11.0, '...</td>\n",
       "      <td>{'summary': {'maxStressLevel': 92, 'avgStressL...</td>\n",
       "      <td>{'summary': {'id': None, 'userProfilePK': 1227...</td>\n",
       "      <td>{'totalCalories': 1625.0, 'activeKilocalories'...</td>\n",
       "    </tr>\n",
       "    <tr>\n",
       "      <th>1</th>\n",
       "      <td></td>\n",
       "      <td>2025-01-14</td>\n",
       "      <td>{'summary': {'maxHeartRate': 128, 'minHeartRat...</td>\n",
       "      <td>{'summary': {'lowestRespirationValue': 11.0, '...</td>\n",
       "      <td>{'summary': {'maxStressLevel': 94, 'avgStressL...</td>\n",
       "      <td>{'summary': {'id': None, 'userProfilePK': 1227...</td>\n",
       "      <td>{'totalCalories': 2355.0, 'activeKilocalories'...</td>\n",
       "    </tr>\n",
       "    <tr>\n",
       "      <th>2</th>\n",
       "      <td></td>\n",
       "      <td>2025-01-15</td>\n",
       "      <td>{'summary': {'maxHeartRate': 108, 'minHeartRat...</td>\n",
       "      <td>{'summary': {'lowestRespirationValue': 12.0, '...</td>\n",
       "      <td>{'summary': {'maxStressLevel': 96, 'avgStressL...</td>\n",
       "      <td>{'summary': {'id': 1736896851000, 'userProfile...</td>\n",
       "      <td>{'totalCalories': 2344.0, 'activeKilocalories'...</td>\n",
       "    </tr>\n",
       "    <tr>\n",
       "      <th>3</th>\n",
       "      <td></td>\n",
       "      <td>2025-01-16</td>\n",
       "      <td>{'summary': {'maxHeartRate': 121, 'minHeartRat...</td>\n",
       "      <td>{'summary': {'lowestRespirationValue': 11.0, '...</td>\n",
       "      <td>{'summary': {'maxStressLevel': 92, 'avgStressL...</td>\n",
       "      <td>{'summary': {'id': 1736980666000, 'userProfile...</td>\n",
       "      <td>{'totalCalories': 2194.0, 'activeKilocalories'...</td>\n",
       "    </tr>\n",
       "    <tr>\n",
       "      <th>4</th>\n",
       "      <td></td>\n",
       "      <td>2025-01-17</td>\n",
       "      <td>{'summary': {'maxHeartRate': 127, 'minHeartRat...</td>\n",
       "      <td>{'summary': {'lowestRespirationValue': 11.0, '...</td>\n",
       "      <td>{'summary': {'maxStressLevel': 97, 'avgStressL...</td>\n",
       "      <td>{'summary': {'id': 1737073683000, 'userProfile...</td>\n",
       "      <td>{'totalCalories': 2480.0, 'activeKilocalories'...</td>\n",
       "    </tr>\n",
       "  </tbody>\n",
       "</table>\n",
       "</div>"
      ],
      "text/plain": [
       "  email       date                                    heart_rate_data  \\\n",
       "0       2025-01-13  {'summary': {'maxHeartRate': 107, 'minHeartRat...   \n",
       "1       2025-01-14  {'summary': {'maxHeartRate': 128, 'minHeartRat...   \n",
       "2       2025-01-15  {'summary': {'maxHeartRate': 108, 'minHeartRat...   \n",
       "3       2025-01-16  {'summary': {'maxHeartRate': 121, 'minHeartRat...   \n",
       "4       2025-01-17  {'summary': {'maxHeartRate': 127, 'minHeartRat...   \n",
       "\n",
       "                                    respiration_data  \\\n",
       "0  {'summary': {'lowestRespirationValue': 11.0, '...   \n",
       "1  {'summary': {'lowestRespirationValue': 11.0, '...   \n",
       "2  {'summary': {'lowestRespirationValue': 12.0, '...   \n",
       "3  {'summary': {'lowestRespirationValue': 11.0, '...   \n",
       "4  {'summary': {'lowestRespirationValue': 11.0, '...   \n",
       "\n",
       "                                         stress_data  \\\n",
       "0  {'summary': {'maxStressLevel': 92, 'avgStressL...   \n",
       "1  {'summary': {'maxStressLevel': 94, 'avgStressL...   \n",
       "2  {'summary': {'maxStressLevel': 96, 'avgStressL...   \n",
       "3  {'summary': {'maxStressLevel': 92, 'avgStressL...   \n",
       "4  {'summary': {'maxStressLevel': 97, 'avgStressL...   \n",
       "\n",
       "                                          sleep_data  \\\n",
       "0  {'summary': {'id': None, 'userProfilePK': 1227...   \n",
       "1  {'summary': {'id': None, 'userProfilePK': 1227...   \n",
       "2  {'summary': {'id': 1736896851000, 'userProfile...   \n",
       "3  {'summary': {'id': 1736980666000, 'userProfile...   \n",
       "4  {'summary': {'id': 1737073683000, 'userProfile...   \n",
       "\n",
       "                                       activity_data  \n",
       "0  {'totalCalories': 1625.0, 'activeKilocalories'...  \n",
       "1  {'totalCalories': 2355.0, 'activeKilocalories'...  \n",
       "2  {'totalCalories': 2344.0, 'activeKilocalories'...  \n",
       "3  {'totalCalories': 2194.0, 'activeKilocalories'...  \n",
       "4  {'totalCalories': 2480.0, 'activeKilocalories'...  "
      ]
     },
     "execution_count": 6,
     "metadata": {},
     "output_type": "execute_result"
    }
   ],
   "source": [
    "data.head()"
   ]
  },
  {
   "cell_type": "markdown",
   "id": "83d8b805",
   "metadata": {},
   "source": [
    "Problema l'unica serie temporale è il respiration rate. \n",
    "\n",
    "Activity data non sono una serie temporale perciò (credo) non possano entrare nel NormWear. Per ora gli escludo a priori.\n",
    "La body battery durante il giorno non può essere estratta anche guardando sulla libreria non sembra (?).\n"
   ]
  },
  {
   "cell_type": "markdown",
   "id": "e9b2b380",
   "metadata": {},
   "source": [
    "I file relativi al Preprocessing si trovano nella cartella preprocessing"
   ]
  },
  {
   "cell_type": "code",
   "execution_count": null,
   "id": "9b5f5bfa",
   "metadata": {},
   "outputs": [],
   "source": []
  }
 ],
 "metadata": {
  "kernelspec": {
   "display_name": ".venv (3.12.12)",
   "language": "python",
   "name": "python3"
  },
  "language_info": {
   "codemirror_mode": {
    "name": "ipython",
    "version": 3
   },
   "file_extension": ".py",
   "mimetype": "text/x-python",
   "name": "python",
   "nbconvert_exporter": "python",
   "pygments_lexer": "ipython3",
   "version": "3.12.12"
  }
 },
 "nbformat": 4,
 "nbformat_minor": 5
}
